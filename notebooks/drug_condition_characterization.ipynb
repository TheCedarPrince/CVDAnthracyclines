{
 "cells": [
  {
   "cell_type": "markdown",
   "id": "9e9ea3c4",
   "metadata": {
    "papermill": {
     "duration": 0.007281,
     "end_time": "2024-06-22T22:36:47.857347",
     "exception": false,
     "start_time": "2024-06-22T22:36:47.850066",
     "status": "completed"
    },
    "tags": []
   },
   "source": [
    "# Exploring Anthracyclines and Disease within an OMOP CDM Database\n",
    "\n",
    "**Date:** June 22 2024\n",
    "\n",
    "**Summary:** An overview of how to use the observational health tools within JuliaHealth to explore the usage of various Anthracyclines alongside diseases of interest.\n",
    "\n",
    "**Keywords:** #cvd #disease #observational #health #anthracycline\n",
    "\n",
    "## Bibliography\n",
    "\n",
    "Not Available\n",
    "\n",
    "## Notes\n",
    "\n",
    "### Motivation\n",
    "\n",
    "This is a small sample notebook I threw together to illustrate how to further build a small characterization study when exploring drugs and conditions of interest.\n",
    "It goes into a bit more depth on how to find drugs and diseases folks are interested in.\n",
    "\n",
    "### Set-Up\n",
    "\n",
    "Activating the environment (note: this requires `DrWatson.jl` to be installed in your default Julia environment):"
   ]
  },
  {
   "cell_type": "code",
   "execution_count": 1,
   "id": "a636f716",
   "metadata": {
    "execution": {
     "iopub.execute_input": "2024-06-22T18:36:48.198000Z",
     "iopub.status.busy": "2024-06-22T18:36:47.868000Z",
     "iopub.status.idle": "2024-06-22T18:36:49.003000Z",
     "shell.execute_reply": "2024-06-22T18:36:48.967000Z"
    },
    "papermill": {
     "duration": 1.139983,
     "end_time": "2024-06-22T22:36:49.004289",
     "exception": false,
     "start_time": "2024-06-22T22:36:47.864306",
     "status": "completed"
    },
    "tags": []
   },
   "outputs": [],
   "source": [
    "using DrWatson\n",
    "@quickactivate \"CVDAnthracyclines\""
   ]
  },
  {
   "cell_type": "markdown",
   "id": "f3e6c234",
   "metadata": {
    "papermill": {
     "duration": 0.002638,
     "end_time": "2024-06-22T22:36:49.009105",
     "exception": false,
     "start_time": "2024-06-22T22:36:49.006467",
     "status": "completed"
    },
    "tags": []
   },
   "source": [
    "Loading required packages"
   ]
  },
  {
   "cell_type": "code",
   "execution_count": 2,
   "id": "315765da",
   "metadata": {
    "execution": {
     "iopub.execute_input": "2024-06-22T18:36:49.013000Z",
     "iopub.status.busy": "2024-06-22T18:36:49.013000Z",
     "iopub.status.idle": "2024-06-22T18:36:51.707000Z",
     "shell.execute_reply": "2024-06-22T18:36:51.707000Z"
    },
    "papermill": {
     "duration": 2.697326,
     "end_time": "2024-06-22T22:36:51.708417",
     "exception": false,
     "start_time": "2024-06-22T22:36:49.011091",
     "status": "completed"
    },
    "tags": []
   },
   "outputs": [],
   "source": [
    "using JSON3\n",
    "using HTTP\n",
    "using OMOPCDMCohortCreator\n",
    "\n",
    "import DBInterface:\n",
    "    connect,\n",
    "    execute\n",
    "import LibPQ:\n",
    "    Connection"
   ]
  },
  {
   "cell_type": "markdown",
   "id": "4e73f3af",
   "metadata": {
    "papermill": {
     "duration": 0.001788,
     "end_time": "2024-06-22T22:36:51.712535",
     "exception": false,
     "start_time": "2024-06-22T22:36:51.710747",
     "status": "completed"
    },
    "tags": []
   },
   "source": [
    "Creating connection to database"
   ]
  },
  {
   "cell_type": "code",
   "execution_count": 3,
   "id": "893c7fd2",
   "metadata": {
    "execution": {
     "iopub.execute_input": "2024-06-22T18:36:51.934000Z",
     "iopub.status.busy": "2024-06-22T18:36:51.724000Z",
     "iopub.status.idle": "2024-06-22T18:36:54.109000Z",
     "shell.execute_reply": "2024-06-22T18:36:54.109000Z"
    },
    "papermill": {
     "duration": 2.395968,
     "end_time": "2024-06-22T22:36:54.110278",
     "exception": false,
     "start_time": "2024-06-22T22:36:51.714310",
     "status": "completed"
    },
    "tags": []
   },
   "outputs": [
    {
     "name": "stderr",
     "output_type": "stream",
     "text": [
      "WARNING:  database \"synthea\" has a collation version mismatch\n",
      "DETAIL:  The database was created using collation version 2.37, but the operating system provides version 2.38.\n",
      "HINT:  Rebuild all objects in this database that use the default collation and run ALTER DATABASE synthea REFRESH COLLATION VERSION, or build PostgreSQL with the right library version.\n"
     ]
    },
    {
     "data": {
      "text/plain": [
       "PostgreSQL connection (CONNECTION_OK) with parameters:\n",
       "  user = thecedarprince\n",
       "  passfile = /home/thecedarprince/.pgpass\n",
       "  channel_binding = prefer\n",
       "  dbname = synthea\n",
       "  port = 5432\n",
       "  client_encoding = UTF8\n",
       "  options = -c DateStyle=ISO,YMD -c IntervalStyle=iso_8601 -c TimeZone=UTC\n",
       "  application_name = LibPQ.jl\n",
       "  sslmode = prefer\n",
       "  sslcompression = 0\n",
       "  sslsni = 1\n",
       "  ssl_min_protocol_version = TLSv1.2\n",
       "  gssencmode = prefer\n",
       "  krbsrvname = postgres\n",
       "  target_session_attrs = any"
      ]
     },
     "execution_count": 3,
     "metadata": {},
     "output_type": "execute_result"
    }
   ],
   "source": [
    "conn = connect(\n",
    "    Connection, \n",
    "    \"user=thecedarprince dbname=synthea\"\n",
    ")"
   ]
  },
  {
   "cell_type": "markdown",
   "id": "4174aa1a",
   "metadata": {
    "papermill": {
     "duration": 0.001979,
     "end_time": "2024-06-22T22:36:54.114500",
     "exception": false,
     "start_time": "2024-06-22T22:36:54.112521",
     "status": "completed"
    },
    "tags": []
   },
   "source": [
    "Generating database details for the synthetic database we are connecting to (this is used internally by the `OMOPCDMCohortCreator.jl` packag):"
   ]
  },
  {
   "cell_type": "code",
   "execution_count": 4,
   "id": "10e8e1a9",
   "metadata": {
    "execution": {
     "iopub.execute_input": "2024-06-22T18:36:54.118000Z",
     "iopub.status.busy": "2024-06-22T18:36:54.118000Z",
     "iopub.status.idle": "2024-06-22T18:36:55.541000Z",
     "shell.execute_reply": "2024-06-22T18:36:55.541000Z"
    },
    "papermill": {
     "duration": 1.427077,
     "end_time": "2024-06-22T22:36:55.543496",
     "exception": false,
     "start_time": "2024-06-22T22:36:54.116419",
     "status": "completed"
    },
    "tags": []
   },
   "outputs": [
    {
     "name": "stderr",
     "output_type": "stream",
     "text": [
      "\u001b[36m\u001b[1m[ \u001b[22m\u001b[39m\u001b[36m\u001b[1mInfo: \u001b[22m\u001b[39mGlobal database dialect set to: postgresql\n",
      "\u001b[36m\u001b[1m[ \u001b[22m\u001b[39m\u001b[36m\u001b[1mInfo: \u001b[22m\u001b[39mGlobal schema set to: omop\n"
     ]
    },
    {
     "name": "stderr",
     "output_type": "stream",
     "text": [
      "\u001b[36m\u001b[1m[ \u001b[22m\u001b[39m\u001b[36m\u001b[1mInfo: \u001b[22m\u001b[39msource_to_concept_map table generated internally\n",
      "\u001b[36m\u001b[1m[ \u001b[22m\u001b[39m\u001b[36m\u001b[1mInfo: \u001b[22m\u001b[39mpayer_plan_period table generated internally\n",
      "\u001b[36m\u001b[1m[ \u001b[22m\u001b[39m\u001b[36m\u001b[1mInfo: \u001b[22m\u001b[39mvocabulary table generated internally\n",
      "\u001b[36m\u001b[1m[ \u001b[22m\u001b[39m\u001b[36m\u001b[1mInfo: \u001b[22m\u001b[39mnote_nlp table generated internally\n",
      "\u001b[36m\u001b[1m[ \u001b[22m\u001b[39m\u001b[36m\u001b[1mInfo: \u001b[22m\u001b[39mprocedure_occurrence table generated internally\n",
      "\u001b[36m\u001b[1m[ \u001b[22m\u001b[39m\u001b[36m\u001b[1mInfo: \u001b[22m\u001b[39mdomain table generated internally\n",
      "\u001b[36m\u001b[1m[ \u001b[22m\u001b[39m\u001b[36m\u001b[1mInfo: \u001b[22m\u001b[39mmetadata table generated internally\n",
      "\u001b[36m\u001b[1m[ \u001b[22m\u001b[39m\u001b[36m\u001b[1mInfo: \u001b[22m\u001b[39mcohort_summary_stats table generated internally\n",
      "\u001b[36m\u001b[1m[ \u001b[22m\u001b[39m\u001b[36m\u001b[1mInfo: \u001b[22m\u001b[39mfact_relationship table generated internally\n",
      "\u001b[36m\u001b[1m[ \u001b[22m\u001b[39m\u001b[36m\u001b[1mInfo: \u001b[22m\u001b[39mdrug_exposure table generated internally\n",
      "\u001b[36m\u001b[1m[ \u001b[22m\u001b[39m\u001b[36m\u001b[1mInfo: \u001b[22m\u001b[39mall_visits table generated internally\n",
      "\u001b[36m\u001b[1m[ \u001b[22m\u001b[39m\u001b[36m\u001b[1mInfo: \u001b[22m\u001b[39mfinal_visit_ids table generated internally\n",
      "\u001b[36m\u001b[1m[ \u001b[22m\u001b[39m\u001b[36m\u001b[1mInfo: \u001b[22m\u001b[39mperson table generated internally\n",
      "\u001b[36m\u001b[1m[ \u001b[22m\u001b[39m\u001b[36m\u001b[1mInfo: \u001b[22m\u001b[39mcost table generated internally\n",
      "\u001b[36m\u001b[1m[ \u001b[22m\u001b[39m\u001b[36m\u001b[1mInfo: \u001b[22m\u001b[39mobservation table generated internally\n",
      "\u001b[36m\u001b[1m[ \u001b[22m\u001b[39m\u001b[36m\u001b[1mInfo: \u001b[22m\u001b[39mprovider table generated internally\n",
      "\u001b[36m\u001b[1m[ \u001b[22m\u001b[39m\u001b[36m\u001b[1mInfo: \u001b[22m\u001b[39mvisit_detail table generated internally\n",
      "\u001b[36m\u001b[1m[ \u001b[22m\u001b[39m\u001b[36m\u001b[1mInfo: \u001b[22m\u001b[39massign_all_visit_ids table generated internally\n",
      "\u001b[36m\u001b[1m[ \u001b[22m\u001b[39m\u001b[36m\u001b[1mInfo: \u001b[22m\u001b[39mdevice_exposure table generated internally\n",
      "\u001b[36m\u001b[1m[ \u001b[22m\u001b[39m\u001b[36m\u001b[1mInfo: \u001b[22m\u001b[39mmeasurement table generated internally\n",
      "\u001b[36m\u001b[1m[ \u001b[22m\u001b[39m\u001b[36m\u001b[1mInfo: \u001b[22m\u001b[39msource_to_standard_vocab_map table generated internally\n",
      "\u001b[36m\u001b[1m[ \u001b[22m\u001b[39m\u001b[36m\u001b[1mInfo: \u001b[22m\u001b[39mlocation table generated internally\n",
      "\u001b[36m\u001b[1m[ \u001b[22m\u001b[39m\u001b[36m\u001b[1mInfo: \u001b[22m\u001b[39mvisit_occurrence table generated internally\n",
      "\u001b[36m\u001b[1m[ \u001b[22m\u001b[39m\u001b[36m\u001b[1mInfo: \u001b[22m\u001b[39mrelationship table generated internally\n",
      "\u001b[36m\u001b[1m[ \u001b[22m\u001b[39m\u001b[36m\u001b[1mInfo: \u001b[22m\u001b[39mdose_era table generated internally\n",
      "\u001b[36m\u001b[1m[ \u001b[22m\u001b[39m\u001b[36m\u001b[1mInfo: \u001b[22m\u001b[39mconcept table generated internally\n",
      "\u001b[36m\u001b[1m[ \u001b[22m\u001b[39m\u001b[36m\u001b[1mInfo: \u001b[22m\u001b[39mdeath table generated internally\n",
      "\u001b[36m\u001b[1m[ \u001b[22m\u001b[39m\u001b[36m\u001b[1mInfo: \u001b[22m\u001b[39mconcept_class table generated internally\n",
      "\u001b[36m\u001b[1m[ \u001b[22m\u001b[39m\u001b[36m\u001b[1mInfo: \u001b[22m\u001b[39mdrug_era table generated internally\n",
      "\u001b[36m\u001b[1m[ \u001b[22m\u001b[39m\u001b[36m\u001b[1mInfo: \u001b[22m\u001b[39mnote table generated internally\n",
      "\u001b[36m\u001b[1m[ \u001b[22m\u001b[39m\u001b[36m\u001b[1mInfo: \u001b[22m\u001b[39mepisode_event table generated internally\n",
      "\u001b[36m\u001b[1m[ \u001b[22m\u001b[39m\u001b[36m\u001b[1mInfo: \u001b[22m\u001b[39mepisode table generated internally\n",
      "\u001b[36m\u001b[1m[ \u001b[22m\u001b[39m\u001b[36m\u001b[1mInfo: \u001b[22m\u001b[39mspecimen table generated internally\n",
      "\u001b[36m\u001b[1m[ \u001b[22m\u001b[39m\u001b[36m\u001b[1mInfo: \u001b[22m\u001b[39mcondition_occurrence table generated internally\n",
      "\u001b[36m\u001b[1m[ \u001b[22m\u001b[39m\u001b[36m\u001b[1mInfo: \u001b[22m\u001b[39mcohort_inclusion table generated internally\n",
      "\u001b[36m\u001b[1m[ \u001b[22m\u001b[39m\u001b[36m\u001b[1mInfo: \u001b[22m\u001b[39mcohort table generated internally\n",
      "\u001b[36m\u001b[1m[ \u001b[22m\u001b[39m\u001b[36m\u001b[1mInfo: \u001b[22m\u001b[39mconcept_ancestor table generated internally\n",
      "\u001b[36m\u001b[1m[ \u001b[22m\u001b[39m\u001b[36m\u001b[1mInfo: \u001b[22m\u001b[39mcohort_inclusion_stats table generated internally\n",
      "\u001b[36m\u001b[1m[ \u001b[22m\u001b[39m\u001b[36m\u001b[1mInfo: \u001b[22m\u001b[39mcohort_inclusion_result table generated internally\n",
      "\u001b[36m\u001b[1m[ \u001b[22m\u001b[39m\u001b[36m\u001b[1mInfo: \u001b[22m\u001b[39mobservation_period table generated internally\n",
      "\u001b[36m\u001b[1m[ \u001b[22m\u001b[39m\u001b[36m\u001b[1mInfo: \u001b[22m\u001b[39mcondition_era table generated internally\n",
      "\u001b[36m\u001b[1m[ \u001b[22m\u001b[39m\u001b[36m\u001b[1mInfo: \u001b[22m\u001b[39mconcept_relationship table generated internally\n",
      "\u001b[36m\u001b[1m[ \u001b[22m\u001b[39m\u001b[36m\u001b[1mInfo: \u001b[22m\u001b[39mcohort_censor_stats table generated internally\n",
      "\u001b[36m\u001b[1m[ \u001b[22m\u001b[39m\u001b[36m\u001b[1mInfo: \u001b[22m\u001b[39mconcept_synonym table generated internally\n",
      "\u001b[36m\u001b[1m[ \u001b[22m\u001b[39m\u001b[36m\u001b[1mInfo: \u001b[22m\u001b[39mcdm_source table generated internally\n",
      "\u001b[36m\u001b[1m[ \u001b[22m\u001b[39m\u001b[36m\u001b[1mInfo: \u001b[22m\u001b[39mcohort_definition table generated internally\n",
      "\u001b[36m\u001b[1m[ \u001b[22m\u001b[39m\u001b[36m\u001b[1mInfo: \u001b[22m\u001b[39mdrug_strength table generated internally\n",
      "\u001b[36m\u001b[1m[ \u001b[22m\u001b[39m\u001b[36m\u001b[1mInfo: \u001b[22m\u001b[39msource_to_source_vocab_map table generated internally\n",
      "\u001b[36m\u001b[1m[ \u001b[22m\u001b[39m\u001b[36m\u001b[1mInfo: \u001b[22m\u001b[39mcare_site table generated internally\n"
     ]
    },
    {
     "data": {
      "text/plain": [
       "PostgreSQL connection (CONNECTION_OK) with parameters:\n",
       "  user = thecedarprince\n",
       "  passfile = /home/thecedarprince/.pgpass\n",
       "  channel_binding = prefer\n",
       "  dbname = synthea\n",
       "  port = 5432\n",
       "  client_encoding = UTF8\n",
       "  options = -c DateStyle=ISO,YMD -c IntervalStyle=iso_8601 -c TimeZone=UTC\n",
       "  application_name = LibPQ.jl\n",
       "  sslmode = prefer\n",
       "  sslcompression = 0\n",
       "  sslsni = 1\n",
       "  ssl_min_protocol_version = TLSv1.2\n",
       "  gssencmode = prefer\n",
       "  krbsrvname = postgres\n",
       "  target_session_attrs = any"
      ]
     },
     "execution_count": 4,
     "metadata": {},
     "output_type": "execute_result"
    }
   ],
   "source": [
    "GenerateDatabaseDetails(:postgresql, \"omop\")\n",
    "GenerateTables(conn)"
   ]
  },
  {
   "cell_type": "markdown",
   "id": "2e5d34bb",
   "metadata": {
    "papermill": {
     "duration": 0.002185,
     "end_time": "2024-06-22T22:36:55.548167",
     "exception": false,
     "start_time": "2024-06-22T22:36:55.545982",
     "status": "completed"
    },
    "tags": []
   },
   "source": [
    "### Creating Drug and Disease Look-Ups\n",
    "\n",
    "Here are the anthracyclines we are exploring:"
   ]
  },
  {
   "cell_type": "code",
   "execution_count": 5,
   "id": "69d1cd7e",
   "metadata": {
    "execution": {
     "iopub.execute_input": "2024-06-22T18:36:55.552000Z",
     "iopub.status.busy": "2024-06-22T18:36:55.552000Z",
     "iopub.status.idle": "2024-06-22T18:36:56.948000Z",
     "shell.execute_reply": "2024-06-22T18:36:56.948000Z"
    },
    "papermill": {
     "duration": 1.399682,
     "end_time": "2024-06-22T22:36:56.950019",
     "exception": false,
     "start_time": "2024-06-22T22:36:55.550337",
     "status": "completed"
    },
    "tags": []
   },
   "outputs": [
    {
     "data": {
      "text/plain": [
       "9-element Vector{@NamedTuple{name::String, id::Int64}}:\n",
       " (name = \"Daunorubicin\", id = 1311799)\n",
       " (name = \"Doxorubicin\", id = 1338512)\n",
       " (name = \"Epirubicin\", id = 1344354)\n",
       " (name = \"Idarubicin\", id = 19078097)\n",
       " (name = \"Mitoxantrone\", id = 1309188)\n",
       " (name = \"Valrubicin\", id = 19012543)\n",
       " (name = \"Ibrutinib\", id = 44507848)\n",
       " (name = \"Acalabrutinib\", id = 792764)\n",
       " (name = \"Zanubrutinib\", id = 37497691)"
      ]
     },
     "execution_count": 5,
     "metadata": {},
     "output_type": "execute_result"
    }
   ],
   "source": [
    "drugs = [\n",
    "    (name = \"Daunorubicin\", id = 1311799),\n",
    "    (name = \"Doxorubicin\", id = 1338512),\n",
    "    (name = \"Epirubicin\", id = 1344354),\n",
    "    (name = \"Idarubicin\", id = 19078097),\n",
    "    (name = \"Mitoxantrone\", id = 1309188),\n",
    "    (name = \"Valrubicin\", id = 19012543),\n",
    "    (name = \"Ibrutinib\", id = 44507848),\n",
    "    (name = \"Acalabrutinib\", id = 792764),\n",
    "    (name = \"Zanubrutinib\", id = 37497691),\n",
    "]"
   ]
  },
  {
   "cell_type": "markdown",
   "id": "8d9eee3f",
   "metadata": {
    "papermill": {
     "duration": 0.002376,
     "end_time": "2024-06-22T22:36:56.955002",
     "exception": false,
     "start_time": "2024-06-22T22:36:56.952626",
     "status": "completed"
    },
    "tags": []
   },
   "source": [
    "Here are the diseases we are exploring:"
   ]
  },
  {
   "cell_type": "code",
   "execution_count": 6,
   "id": "63e9a60d",
   "metadata": {
    "execution": {
     "iopub.execute_input": "2024-06-22T18:36:56.959000Z",
     "iopub.status.busy": "2024-06-22T18:36:56.959000Z",
     "iopub.status.idle": "2024-06-22T18:36:56.973000Z",
     "shell.execute_reply": "2024-06-22T18:36:56.972000Z"
    },
    "papermill": {
     "duration": 0.018058,
     "end_time": "2024-06-22T22:36:56.975400",
     "exception": false,
     "start_time": "2024-06-22T22:36:56.957342",
     "status": "completed"
    },
    "tags": []
   },
   "outputs": [
    {
     "data": {
      "text/plain": [
       "2-element Vector{@NamedTuple{name::String, id::Int64}}:\n",
       " (name = \"Myocardial Infarction\", id = 4329847)\n",
       " (name = \"Heart Failure\", id = 316139)"
      ]
     },
     "execution_count": 6,
     "metadata": {},
     "output_type": "execute_result"
    }
   ],
   "source": [
    "diseases = [\n",
    "    (name = \"Myocardial Infarction\", id = 4329847),\n",
    "    (name = \"Heart Failure\", id = 316139),\n",
    "]"
   ]
  },
  {
   "cell_type": "markdown",
   "id": "2945fe3b",
   "metadata": {
    "papermill": {
     "duration": 0.002428,
     "end_time": "2024-06-22T22:36:56.981330",
     "exception": false,
     "start_time": "2024-06-22T22:36:56.978902",
     "status": "completed"
    },
    "tags": []
   },
   "source": [
    "For both these drugs and diseases, the IDs come from [ATLAS](https://atlas-demo.ohdsi.org/#/search), a tool to develop computable phenotype definitions (i.e. translating a disease phenotype definition to the same thing but in code).\n",
    "How these IDs were found for a drug is as follows (using Doxorubicin as an example):\n",
    "\n",
    "1. Search within ATLAS for Doxorubicin.\n",
    "\n",
    "2. Click any Doxorubicin-related drug name.\n",
    "\n",
    "3. Look through the related concepts or hierarchy (in the parent section) for the ingredient version of the drug.\n",
    "\n",
    "4. Copy that ID for the ingredient version of Doxorubicin.\n",
    "\n",
    "That is the ID we used here as it is the base for all other Doxorubicin medications.\n",
    "\n",
    "Next, we can do something similar for Myocardial Infarction:\n",
    "\n",
    "1. Search within ATLAS for Myocardial Infarction.\n",
    "\n",
    "2. Click any Myocardial Infarction-related name.\n",
    "\n",
    "3. Look through the hierarchy of this disease. \n",
    "The condition version we are looking for is that parent concepts are too broad for our condition and the current condition we select should have children that encompass all diseases we want (in this case, this is [recorded condition](https://atlas-demo.ohdsi.org/#/concept/4329847) is the perfect level of granularity).\n",
    "\n",
    "4. Copy that ID for the ingredient version of Myocardial Infarction.\n",
    "\n",
    "That is the ID we used here as it is the base for all other Myocardial Infarction-related disease conditions.\n",
    "\n",
    "Next, we'll discuss how to create a query that includes the derivatives of the general concepts for the drugs and diseases we found.\n",
    "\n",
    "### Generating Ad Hoc Definitions\n",
    "\n",
    "Here, we programmatically query the public ATLAS instance that is running to get the children IDs of the general concepts (referred to as descendants in ATLAS).\n",
    "In this case, we are, in a very ad hoc way, creating an implicit computable phenotype definition where we are looking for all drugs and diseases that are based off our general concepts.\n",
    "This is great for rapid prototyping, but a phenotype definition must be scrutinized ruthlessly when moving towards a final version for patient analysis (see: [Zelko, Jacob S., et al. \"Developing a Robust Computable Phenotype Definition Workflow to Describe Health and Disease in Observational Health Research.\" arXiv preprint arXiv:2304.06504 (2023).](https://arxiv.org/abs/2304.06504) which discussed more about this process).\n",
    "\n",
    "This is how we do that for drugs:"
   ]
  },
  {
   "cell_type": "code",
   "execution_count": 7,
   "id": "3cca176b",
   "metadata": {
    "execution": {
     "iopub.execute_input": "2024-06-22T18:36:56.986000Z",
     "iopub.status.busy": "2024-06-22T18:36:56.986000Z",
     "iopub.status.idle": "2024-06-22T18:37:04.879000Z",
     "shell.execute_reply": "2024-06-22T18:37:04.879000Z"
    },
    "papermill": {
     "duration": 7.896669,
     "end_time": "2024-06-22T22:37:04.880364",
     "exception": false,
     "start_time": "2024-06-22T22:36:56.983695",
     "status": "completed"
    },
    "tags": []
   },
   "outputs": [],
   "source": [
    "drug_descendants = []\n",
    "for drug in drugs\n",
    "    path = \"https://atlas-demo.ohdsi.org/WebAPI/vocabulary/ATLASPROD/concept/$(drug.id)/descendants/\"\n",
    "    descendants = \n",
    "        HTTP.get(path) |> \n",
    "        x -> String(x.body) |> \n",
    "        JSON3.read\n",
    "    push!(drug_descendants, descendants)\n",
    "end"
   ]
  },
  {
   "cell_type": "markdown",
   "id": "606da89a",
   "metadata": {
    "papermill": {
     "duration": 0.002227,
     "end_time": "2024-06-22T22:37:04.885061",
     "exception": false,
     "start_time": "2024-06-22T22:37:04.882834",
     "status": "completed"
    },
    "tags": []
   },
   "source": [
    "This is how we do that for diseases:"
   ]
  },
  {
   "cell_type": "code",
   "execution_count": 8,
   "id": "61d37f1d",
   "metadata": {
    "execution": {
     "iopub.execute_input": "2024-06-22T18:37:04.889000Z",
     "iopub.status.busy": "2024-06-22T18:37:04.889000Z",
     "iopub.status.idle": "2024-06-22T18:37:05.322000Z",
     "shell.execute_reply": "2024-06-22T18:37:05.321000Z"
    },
    "papermill": {
     "duration": 0.436897,
     "end_time": "2024-06-22T22:37:05.324124",
     "exception": false,
     "start_time": "2024-06-22T22:37:04.887227",
     "status": "completed"
    },
    "tags": []
   },
   "outputs": [],
   "source": [
    "disease_descendants = []\n",
    "for disease in diseases\n",
    "    path = \"https://atlas-demo.ohdsi.org/WebAPI/vocabulary/ATLASPROD/concept/$(disease.id)/descendants/\"\n",
    "    descendants = \n",
    "        HTTP.get(path) |> \n",
    "        x -> String(x.body) |> \n",
    "        JSON3.read\n",
    "    push!(disease_descendants, descendants)\n",
    "end"
   ]
  },
  {
   "cell_type": "markdown",
   "id": "64e3efba",
   "metadata": {
    "papermill": {
     "duration": 0.005033,
     "end_time": "2024-06-22T22:37:05.338623",
     "exception": false,
     "start_time": "2024-06-22T22:37:05.333590",
     "status": "completed"
    },
    "tags": []
   },
   "source": [
    "### Analyzing the OMOPCDM Database\n",
    "\n",
    "Find users of the drugs we are interested in:"
   ]
  },
  {
   "cell_type": "code",
   "execution_count": 9,
   "id": "0648929f",
   "metadata": {
    "execution": {
     "iopub.execute_input": "2024-06-22T18:37:05.345000Z",
     "iopub.status.busy": "2024-06-22T18:37:05.345000Z",
     "iopub.status.idle": "2024-06-22T18:37:08.895000Z",
     "shell.execute_reply": "2024-06-22T18:37:08.895000Z"
    },
    "papermill": {
     "duration": 3.55432,
     "end_time": "2024-06-22T22:37:08.896975",
     "exception": false,
     "start_time": "2024-06-22T22:37:05.342655",
     "status": "completed"
    },
    "tags": []
   },
   "outputs": [
    {
     "name": "stderr",
     "output_type": "stream",
     "text": [
      "WARNING:  database \"synthea\" has a collation version mismatch\n",
      "DETAIL:  The database was created using collation version 2.37, but the operating system provides version 2.38.\n",
      "HINT:  Rebuild all objects in this database that use the default collation and run ALTER DATABASE synthea REFRESH COLLATION VERSION, or build PostgreSQL with the right library version.\n",
      "WARNING:  database \"synthea\" has a collation version mismatch\n",
      "DETAIL:  The database was created using collation version 2.37, but the operating system provides version 2.38.\n",
      "HINT:  Rebuild all objects in this database that use the default collation and run ALTER DATABASE synthea REFRESH COLLATION VERSION, or build PostgreSQL with the right library version.\n",
      "WARNING:  database \"synthea\" has a collation version mismatch\n",
      "DETAIL:  The database was created using collation version 2.37, but the operating system provides version 2.38.\n",
      "HINT:  Rebuild all objects in this database that use the default collation and run ALTER DATABASE synthea REFRESH COLLATION VERSION, or build PostgreSQL with the right library version.\n",
      "WARNING:  database \"synthea\" has a collation version mismatch\n",
      "DETAIL:  The database was created using collation version 2.37, but the operating system provides version 2.38.\n",
      "HINT:  Rebuild all objects in this database that use the default collation and run ALTER DATABASE synthea REFRESH COLLATION VERSION, or build PostgreSQL with the right library version.\n",
      "WARNING:  database \"synthea\" has a collation version mismatch\n",
      "DETAIL:  The database was created using collation version 2.37, but the operating system provides version 2.38.\n",
      "HINT:  Rebuild all objects in this database that use the default collation and run ALTER DATABASE synthea REFRESH COLLATION VERSION, or build PostgreSQL with the right library version.\n",
      "WARNING:  database \"synthea\" has a collation version mismatch\n",
      "DETAIL:  The database was created using collation version 2.37, but the operating system provides version 2.38.\n",
      "HINT:  Rebuild all objects in this database that use the default collation and run ALTER DATABASE synthea REFRESH COLLATION VERSION, or build PostgreSQL with the right library version.\n",
      "WARNING:  database \"synthea\" has a collation version mismatch\n",
      "DETAIL:  The database was created using collation version 2.37, but the operating system provides version 2.38.\n",
      "HINT:  Rebuild all objects in this database that use the default collation and run ALTER DATABASE synthea REFRESH COLLATION VERSION, or build PostgreSQL with the right library version.\n",
      "WARNING:  database \"synthea\" has a collation version mismatch\n",
      "DETAIL:  The database was created using collation version 2.37, but the operating system provides version 2.38.\n",
      "HINT:  Rebuild all objects in this database that use the default collation and run ALTER DATABASE synthea REFRESH COLLATION VERSION, or build PostgreSQL with the right library version.\n",
      "WARNING:  database \"synthea\" has a collation version mismatch\n",
      "DETAIL:  The database was created using collation version 2.37, but the operating system provides version 2.38.\n",
      "HINT:  Rebuild all objects in this database that use the default collation and run ALTER DATABASE synthea REFRESH COLLATION VERSION, or build PostgreSQL with the right library version.\n",
      "WARNING:  database \"synthea\" has a collation version mismatch\n",
      "DETAIL:  The database was created using collation version 2.37, but the operating system provides version 2.38.\n",
      "HINT:  Rebuild all objects in this database that use the default collation and run ALTER DATABASE synthea REFRESH COLLATION VERSION, or build PostgreSQL with the right library version.\n",
      "WARNING:  database \"synthea\" has a collation version mismatch\n",
      "DETAIL:  The database was created using collation version 2.37, but the operating system provides version 2.38.\n",
      "HINT:  Rebuild all objects in this database that use the default collation and run ALTER DATABASE synthea REFRESH COLLATION VERSION, or build PostgreSQL with the right library version.\n",
      "WARNING:  database \"synthea\" has a collation version mismatch\n",
      "DETAIL:  The database was created using collation version 2.37, but the operating system provides version 2.38.\n",
      "HINT:  Rebuild all objects in this database that use the default collation and run ALTER DATABASE synthea REFRESH COLLATION VERSION, or build PostgreSQL with the right library version.\n",
      "WARNING:  database \"synthea\" has a collation version mismatch\n",
      "DETAIL:  The database was created using collation version 2.37, but the operating system provides version 2.38.\n",
      "HINT:  Rebuild all objects in this database that use the default collation and run ALTER DATABASE synthea REFRESH COLLATION VERSION, or build PostgreSQL with the right library version.\n",
      "WARNING:  database \"synthea\" has a collation version mismatch\n",
      "DETAIL:  The database was created using collation version 2.37, but the operating system provides version 2.38.\n",
      "HINT:  Rebuild all objects in this database that use the default collation and run ALTER DATABASE synthea REFRESH COLLATION VERSION, or build PostgreSQL with the right library version.\n",
      "WARNING:  database \"synthea\" has a collation version mismatch\n",
      "DETAIL:  The database was created using collation version 2.37, but the operating system provides version 2.38.\n",
      "HINT:  Rebuild all objects in this database that use the default collation and run ALTER DATABASE synthea REFRESH COLLATION VERSION, or build PostgreSQL with the right library version.\n",
      "WARNING:  database \"synthea\" has a collation version mismatch\n",
      "DETAIL:  The database was created using collation version 2.37, but the operating system provides version 2.38.\n",
      "HINT:  Rebuild all objects in this database that use the default collation and run ALTER DATABASE synthea REFRESH COLLATION VERSION, or build PostgreSQL with the right library version.\n",
      "WARNING:  database \"synthea\" has a collation version mismatch\n",
      "DETAIL:  The database was created using collation version 2.37, but the operating system provides version 2.38.\n",
      "HINT:  Rebuild all objects in this database that use the default collation and run ALTER DATABASE synthea REFRESH COLLATION VERSION, or build PostgreSQL with the right library version.\n",
      "WARNING:  database \"synthea\" has a collation version mismatch\n",
      "DETAIL:  The database was created using collation version 2.37, but the operating system provides version 2.38.\n",
      "HINT:  Rebuild all objects in this database that use the default collation and run ALTER DATABASE synthea REFRESH COLLATION VERSION, or build PostgreSQL with the right library version.\n"
     ]
    }
   ],
   "source": [
    "drug_users = Dict()\n",
    "for (idx, drug) in enumerate(drugs)\n",
    "    ids = OMOPCDMCohortCreator.DrugExposureFilterPersonIDs(\n",
    "        [\n",
    "            drug[:CONCEPT_ID] \n",
    "            for drug in drug_descendants[idx]\n",
    "        ], conn).person_id\n",
    "    push!(\n",
    "        drug_users, \n",
    "        drug.name => \n",
    "            (ids = ids, count = length(ids))\n",
    "    )\n",
    "end"
   ]
  },
  {
   "cell_type": "markdown",
   "id": "a9697d87",
   "metadata": {
    "papermill": {
     "duration": 0.002375,
     "end_time": "2024-06-22T22:37:08.902057",
     "exception": false,
     "start_time": "2024-06-22T22:37:08.899682",
     "status": "completed"
    },
    "tags": []
   },
   "source": [
    "Find patients diagnosed with the conditions we are interested in:"
   ]
  },
  {
   "cell_type": "code",
   "execution_count": 10,
   "id": "c0bbf991",
   "metadata": {
    "execution": {
     "iopub.execute_input": "2024-06-22T18:37:08.907000Z",
     "iopub.status.busy": "2024-06-22T18:37:08.907000Z",
     "iopub.status.idle": "2024-06-22T18:37:09.153000Z",
     "shell.execute_reply": "2024-06-22T18:37:09.153000Z"
    },
    "papermill": {
     "duration": 0.249879,
     "end_time": "2024-06-22T22:37:09.154317",
     "exception": false,
     "start_time": "2024-06-22T22:37:08.904438",
     "status": "completed"
    },
    "tags": []
   },
   "outputs": [
    {
     "name": "stderr",
     "output_type": "stream",
     "text": [
      "WARNING:  database \"synthea\" has a collation version mismatch\n",
      "DETAIL:  The database was created using collation version 2.37, but the operating system provides version 2.38.\n",
      "HINT:  Rebuild all objects in this database that use the default collation and run ALTER DATABASE synthea REFRESH COLLATION VERSION, or build PostgreSQL with the right library version.\n",
      "WARNING:  database \"synthea\" has a collation version mismatch\n",
      "DETAIL:  The database was created using collation version 2.37, but the operating system provides version 2.38.\n",
      "HINT:  Rebuild all objects in this database that use the default collation and run ALTER DATABASE synthea REFRESH COLLATION VERSION, or build PostgreSQL with the right library version.\n",
      "WARNING:  database \"synthea\" has a collation version mismatch\n",
      "DETAIL:  The database was created using collation version 2.37, but the operating system provides version 2.38.\n",
      "HINT:  Rebuild all objects in this database that use the default collation and run ALTER DATABASE synthea REFRESH COLLATION VERSION, or build PostgreSQL with the right library version.\n",
      "WARNING:  database \"synthea\" has a collation version mismatch\n",
      "DETAIL:  The database was created using collation version 2.37, but the operating system provides version 2.38.\n",
      "HINT:  Rebuild all objects in this database that use the default collation and run ALTER DATABASE synthea REFRESH COLLATION VERSION, or build PostgreSQL with the right library version.\n"
     ]
    }
   ],
   "source": [
    "diseased_patients = Dict()\n",
    "for (idx, disease) in enumerate(diseases)\n",
    "    ids = ConditionFilterPersonIDs(\n",
    "        [\n",
    "            d[:CONCEPT_ID] \n",
    "            for d in disease_descendants[idx]\n",
    "            ], conn).person_id\n",
    "    push!(\n",
    "        diseased_patients, \n",
    "        disease.name => \n",
    "            (ids = ids, count = length(ids))\n",
    "        )\n",
    "end"
   ]
  },
  {
   "cell_type": "markdown",
   "id": "71897f22",
   "metadata": {
    "papermill": {
     "duration": 0.002508,
     "end_time": "2024-06-22T22:37:09.159713",
     "exception": false,
     "start_time": "2024-06-22T22:37:09.157205",
     "status": "completed"
    },
    "tags": []
   },
   "source": [
    "Find the combination of patients diagnosed with the conditions we are interested in and taking the drugs we want to investigate:"
   ]
  },
  {
   "cell_type": "code",
   "execution_count": 11,
   "id": "bac4342f",
   "metadata": {
    "execution": {
     "iopub.execute_input": "2024-06-22T18:37:09.165000Z",
     "iopub.status.busy": "2024-06-22T18:37:09.165000Z",
     "iopub.status.idle": "2024-06-22T18:37:09.440000Z",
     "shell.execute_reply": "2024-06-22T18:37:09.440000Z"
    },
    "papermill": {
     "duration": 0.279026,
     "end_time": "2024-06-22T22:37:09.441237",
     "exception": false,
     "start_time": "2024-06-22T22:37:09.162211",
     "status": "completed"
    },
    "tags": []
   },
   "outputs": [],
   "source": [
    "condition_mix = Dict()\n",
    "for pg in keys(diseased_patients)\n",
    "    push!(condition_mix, pg => Dict())\n",
    "    for du in keys(drug_users)\n",
    "        mix = intersect(\n",
    "            diseased_patients[pg].ids, \n",
    "            drug_users[du].ids\n",
    "        )\n",
    "        push!(\n",
    "            condition_mix[pg], \n",
    "            du => (ids = mix, count = length(mix))\n",
    "        )\n",
    "    end\n",
    "end"
   ]
  },
  {
   "cell_type": "markdown",
   "id": "ce191b5b",
   "metadata": {
    "papermill": {
     "duration": 0.002395,
     "end_time": "2024-06-22T22:37:09.446344",
     "exception": false,
     "start_time": "2024-06-22T22:37:09.443949",
     "status": "completed"
    },
    "tags": []
   },
   "source": [
    "### Saving Results"
   ]
  },
  {
   "cell_type": "code",
   "execution_count": 12,
   "id": "9ffd3d05",
   "metadata": {
    "execution": {
     "iopub.execute_input": "2024-06-22T18:37:09.451000Z",
     "iopub.status.busy": "2024-06-22T18:37:09.451000Z",
     "iopub.status.idle": "2024-06-22T18:37:09.503000Z",
     "shell.execute_reply": "2024-06-22T18:37:09.503000Z"
    },
    "papermill": {
     "duration": 0.056094,
     "end_time": "2024-06-22T22:37:09.504734",
     "exception": false,
     "start_time": "2024-06-22T22:37:09.448640",
     "status": "completed"
    },
    "tags": []
   },
   "outputs": [],
   "source": [
    "open(datadir(\"exp_raw\", \"drug_user_counts.csv\"), \"w\") do io\n",
    "    write(io, \"DRUG,COUNT\\n\")\n",
    "    for du in keys(drug_users)\n",
    "        write(io, \"$du,$(drug_users[du].count)\\n\")\n",
    "    end\n",
    "end"
   ]
  },
  {
   "cell_type": "code",
   "execution_count": 13,
   "id": "891972f7",
   "metadata": {
    "execution": {
     "iopub.execute_input": "2024-06-22T18:37:09.510000Z",
     "iopub.status.busy": "2024-06-22T18:37:09.510000Z",
     "iopub.status.idle": "2024-06-22T18:37:09.532000Z",
     "shell.execute_reply": "2024-06-22T18:37:09.532000Z"
    },
    "papermill": {
     "duration": 0.025914,
     "end_time": "2024-06-22T22:37:09.533316",
     "exception": false,
     "start_time": "2024-06-22T22:37:09.507402",
     "status": "completed"
    },
    "tags": []
   },
   "outputs": [],
   "source": [
    "open(datadir(\"exp_raw\", \"diseased_patient_counts.csv\"), \"w\") do io\n",
    "    write(io, \"DISEASE,COUNT\\n\")\n",
    "    for pg in keys(diseased_patients)\n",
    "        write(io, \"$pg,$(diseased_patients[pg].count)\\n\")\n",
    "    end\n",
    "end"
   ]
  },
  {
   "cell_type": "code",
   "execution_count": 14,
   "id": "75257983",
   "metadata": {
    "execution": {
     "iopub.execute_input": "2024-06-22T18:37:09.538000Z",
     "iopub.status.busy": "2024-06-22T18:37:09.538000Z",
     "iopub.status.idle": "2024-06-22T18:37:09.570000Z",
     "shell.execute_reply": "2024-06-22T18:37:09.570000Z"
    },
    "papermill": {
     "duration": 0.035622,
     "end_time": "2024-06-22T22:37:09.571544",
     "exception": false,
     "start_time": "2024-06-22T22:37:09.535922",
     "status": "completed"
    },
    "tags": []
   },
   "outputs": [],
   "source": [
    "open(datadir(\"exp_raw\", \"mix_counts.csv\"), \"w\") do io\n",
    "    write(io, \"DISEASE,DRUG,COUNT\\n\")\n",
    "    for disease in keys(condition_mix)\n",
    "        for drug in keys(condition_mix[disease])\n",
    "            write(\n",
    "                io, \n",
    "                \"\"\"\n",
    "                $disease,\n",
    "                $drug,\n",
    "                $(condition_mix[disease][drug].count)\\n\n",
    "                \"\"\"\n",
    "            )\n",
    "        end\n",
    "    end\n",
    "end"
   ]
  },
  {
   "cell_type": "markdown",
   "id": "4695b953",
   "metadata": {
    "papermill": {
     "duration": 0.002581,
     "end_time": "2024-06-22T22:37:09.576929",
     "exception": false,
     "start_time": "2024-06-22T22:37:09.574348",
     "status": "completed"
    },
    "tags": []
   },
   "source": [
    "## References:"
   ]
  }
 ],
 "metadata": {
  "kernelspec": {
   "display_name": "Julia 1.10.4",
   "language": "julia",
   "name": "julia-1.10"
  },
  "language_info": {
   "file_extension": ".jl",
   "mimetype": "application/julia",
   "name": "julia",
   "version": "1.10.4"
  },
  "papermill": {
   "default_parameters": {},
   "duration": 26.844345,
   "end_time": "2024-06-22T22:37:12.417943",
   "environment_variables": {},
   "exception": null,
   "input_path": "notebooks/drug_condition_characterization.ipynb",
   "output_path": "notebooks/drug_condition_characterization.ipynb",
   "parameters": {},
   "start_time": "2024-06-22T22:36:45.573598",
   "version": "2.6.0"
  }
 },
 "nbformat": 4,
 "nbformat_minor": 5
}